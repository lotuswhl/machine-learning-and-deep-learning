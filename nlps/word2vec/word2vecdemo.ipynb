{
 "cells": [
  {
   "cell_type": "code",
   "execution_count": 1,
   "metadata": {},
   "outputs": [
    {
     "name": "stderr",
     "output_type": "stream",
     "text": [
      "/home/lotuswhl/anaconda3/lib/python3.6/site-packages/h5py/__init__.py:36: FutureWarning: Conversion of the second argument of issubdtype from `float` to `np.floating` is deprecated. In future, it will be treated as `np.float64 == np.dtype(float).type`.\n",
      "  from ._conv import register_converters as _register_converters\n"
     ]
    }
   ],
   "source": [
    "import numpy as np\n",
    "import tensorflow as tf"
   ]
  },
  {
   "cell_type": "code",
   "execution_count": 2,
   "metadata": {},
   "outputs": [],
   "source": [
    "corpus_raw = 'He is the king . The king is royal . The queen is royal . She is the royal  queen '"
   ]
  },
  {
   "cell_type": "markdown",
   "metadata": {},
   "source": [
    "### 将输入文本转换为小写"
   ]
  },
  {
   "cell_type": "code",
   "execution_count": 3,
   "metadata": {},
   "outputs": [],
   "source": [
    "corpus_raw = corpus_raw.lower()"
   ]
  },
  {
   "cell_type": "markdown",
   "metadata": {},
   "source": [
    "### 构建文本的词典"
   ]
  },
  {
   "cell_type": "code",
   "execution_count": 4,
   "metadata": {},
   "outputs": [],
   "source": [
    "words = []"
   ]
  },
  {
   "cell_type": "code",
   "execution_count": 5,
   "metadata": {},
   "outputs": [],
   "source": [
    "for word in corpus_raw.split():\n",
    "    if word != '.': # 不将标点看做单词\n",
    "        words.append(word)"
   ]
  },
  {
   "cell_type": "code",
   "execution_count": 6,
   "metadata": {},
   "outputs": [
    {
     "data": {
      "text/plain": [
       "['he',\n",
       " 'is',\n",
       " 'the',\n",
       " 'king',\n",
       " 'the',\n",
       " 'king',\n",
       " 'is',\n",
       " 'royal',\n",
       " 'the',\n",
       " 'queen',\n",
       " 'is',\n",
       " 'royal',\n",
       " 'she',\n",
       " 'is',\n",
       " 'the',\n",
       " 'royal',\n",
       " 'queen']"
      ]
     },
     "execution_count": 6,
     "metadata": {},
     "output_type": "execute_result"
    }
   ],
   "source": [
    "words"
   ]
  },
  {
   "cell_type": "code",
   "execution_count": 7,
   "metadata": {},
   "outputs": [],
   "source": [
    "words = set(words) # 去除重复词汇"
   ]
  },
  {
   "cell_type": "code",
   "execution_count": 8,
   "metadata": {},
   "outputs": [
    {
     "data": {
      "text/plain": [
       "{'he', 'is', 'king', 'queen', 'royal', 'she', 'the'}"
      ]
     },
     "execution_count": 8,
     "metadata": {},
     "output_type": "execute_result"
    }
   ],
   "source": [
    "words"
   ]
  },
  {
   "cell_type": "markdown",
   "metadata": {},
   "source": [
    "接下来构建单词与数字的相互映射词典"
   ]
  },
  {
   "cell_type": "code",
   "execution_count": 9,
   "metadata": {},
   "outputs": [],
   "source": [
    "word2num={}\n",
    "num2word={}"
   ]
  },
  {
   "cell_type": "code",
   "execution_count": 10,
   "metadata": {},
   "outputs": [],
   "source": [
    "for num,word in enumerate(words):\n",
    "    word2num[word]=num\n",
    "    num2word[num]=word"
   ]
  },
  {
   "cell_type": "markdown",
   "metadata": {},
   "source": [
    "做下测试"
   ]
  },
  {
   "cell_type": "code",
   "execution_count": 11,
   "metadata": {},
   "outputs": [
    {
     "data": {
      "text/plain": [
       "1"
      ]
     },
     "execution_count": 11,
     "metadata": {},
     "output_type": "execute_result"
    }
   ],
   "source": [
    "word2num['royal']"
   ]
  },
  {
   "cell_type": "code",
   "execution_count": 12,
   "metadata": {},
   "outputs": [
    {
     "data": {
      "text/plain": [
       "'the'"
      ]
     },
     "execution_count": 12,
     "metadata": {},
     "output_type": "execute_result"
    }
   ],
   "source": [
    "num2word[5]"
   ]
  },
  {
   "cell_type": "markdown",
   "metadata": {},
   "source": [
    "接下来将我们的语料库逐句转换为词汇表示"
   ]
  },
  {
   "cell_type": "code",
   "execution_count": 13,
   "metadata": {},
   "outputs": [],
   "source": [
    "sentences=[]"
   ]
  },
  {
   "cell_type": "code",
   "execution_count": 14,
   "metadata": {},
   "outputs": [],
   "source": [
    "for sentence in corpus_raw.split('.'):\n",
    "    sentences.append(sentence.split())\n",
    "        "
   ]
  },
  {
   "cell_type": "code",
   "execution_count": 15,
   "metadata": {},
   "outputs": [
    {
     "data": {
      "text/plain": [
       "[['he', 'is', 'the', 'king'],\n",
       " ['the', 'king', 'is', 'royal'],\n",
       " ['the', 'queen', 'is', 'royal'],\n",
       " ['she', 'is', 'the', 'royal', 'queen']]"
      ]
     },
     "execution_count": 15,
     "metadata": {},
     "output_type": "execute_result"
    }
   ],
   "source": [
    "sentences"
   ]
  },
  {
   "cell_type": "markdown",
   "metadata": {},
   "source": [
    "### 接下来我们要生成训练数据\n",
    "我们将使用skip-gram 算法,也就是根据输入词汇预测其周围词汇的概率\n",
    "因此 我们需要根据上面分隔好的词汇组成的句子去生成诸如{'he','is'},{'he','the'}这样的词组;具体的取决于gram window size的大小,从而决定一个单词生成几个词组"
   ]
  },
  {
   "cell_type": "code",
   "execution_count": 16,
   "metadata": {},
   "outputs": [],
   "source": [
    "data=[]\n",
    "WINDOW_SIZE=2"
   ]
  },
  {
   "cell_type": "code",
   "execution_count": 17,
   "metadata": {},
   "outputs": [],
   "source": [
    "for sentence in sentences:\n",
    "    for word_index,word in enumerate(sentence):\n",
    "        for ng_word in sentence[max(0,word_index-WINDOW_SIZE):\n",
    "                                min(word_index+WINDOW_SIZE+1,len(sentence))]:\n",
    "            if ng_word != word:\n",
    "                data.append([word,ng_word])"
   ]
  },
  {
   "cell_type": "code",
   "execution_count": 18,
   "metadata": {},
   "outputs": [
    {
     "data": {
      "text/plain": [
       "[['he', 'is'],\n",
       " ['he', 'the'],\n",
       " ['is', 'he'],\n",
       " ['is', 'the'],\n",
       " ['is', 'king'],\n",
       " ['the', 'he'],\n",
       " ['the', 'is'],\n",
       " ['the', 'king'],\n",
       " ['king', 'is'],\n",
       " ['king', 'the'],\n",
       " ['the', 'king'],\n",
       " ['the', 'is'],\n",
       " ['king', 'the'],\n",
       " ['king', 'is'],\n",
       " ['king', 'royal'],\n",
       " ['is', 'the'],\n",
       " ['is', 'king'],\n",
       " ['is', 'royal'],\n",
       " ['royal', 'king'],\n",
       " ['royal', 'is'],\n",
       " ['the', 'queen'],\n",
       " ['the', 'is'],\n",
       " ['queen', 'the'],\n",
       " ['queen', 'is'],\n",
       " ['queen', 'royal'],\n",
       " ['is', 'the'],\n",
       " ['is', 'queen'],\n",
       " ['is', 'royal'],\n",
       " ['royal', 'queen'],\n",
       " ['royal', 'is'],\n",
       " ['she', 'is'],\n",
       " ['she', 'the'],\n",
       " ['is', 'she'],\n",
       " ['is', 'the'],\n",
       " ['is', 'royal'],\n",
       " ['the', 'she'],\n",
       " ['the', 'is'],\n",
       " ['the', 'royal'],\n",
       " ['the', 'queen'],\n",
       " ['royal', 'is'],\n",
       " ['royal', 'the'],\n",
       " ['royal', 'queen'],\n",
       " ['queen', 'the'],\n",
       " ['queen', 'royal']]"
      ]
     },
     "execution_count": 18,
     "metadata": {},
     "output_type": "execute_result"
    }
   ],
   "source": [
    "data"
   ]
  },
  {
   "cell_type": "code",
   "execution_count": 19,
   "metadata": {},
   "outputs": [],
   "source": [
    "vacabulary_size = len(words)"
   ]
  },
  {
   "cell_type": "code",
   "execution_count": 20,
   "metadata": {},
   "outputs": [],
   "source": [
    "def to_oneHot(index,vacab_size):\n",
    "    oneHot_vec = np.zeros(vacab_size)\n",
    "    oneHot_vec[index]=1\n",
    "    return oneHot_vec"
   ]
  },
  {
   "cell_type": "markdown",
   "metadata": {},
   "source": [
    "接下来构建我们的训练数据,也就是将词组转换成onehot向量构成的向量组"
   ]
  },
  {
   "cell_type": "code",
   "execution_count": 21,
   "metadata": {},
   "outputs": [],
   "source": [
    "train_x = []\n",
    "train_y = []"
   ]
  },
  {
   "cell_type": "code",
   "execution_count": 22,
   "metadata": {},
   "outputs": [],
   "source": [
    "for word_pair in data:\n",
    "    train_x.append(to_oneHot(word2num[word_pair[0]],vacabulary_size))\n",
    "    train_y.append(to_oneHot(word2num[word_pair[1]],vacabulary_size))"
   ]
  },
  {
   "cell_type": "code",
   "execution_count": 23,
   "metadata": {},
   "outputs": [
    {
     "data": {
      "text/plain": [
       "44"
      ]
     },
     "execution_count": 23,
     "metadata": {},
     "output_type": "execute_result"
    }
   ],
   "source": [
    "len(train_x)"
   ]
  },
  {
   "cell_type": "code",
   "execution_count": 24,
   "metadata": {},
   "outputs": [
    {
     "data": {
      "text/plain": [
       "44"
      ]
     },
     "execution_count": 24,
     "metadata": {},
     "output_type": "execute_result"
    }
   ],
   "source": [
    "len(train_y)"
   ]
  },
  {
   "cell_type": "markdown",
   "metadata": {},
   "source": [
    "再将他们转换成numpy数组方面后续操作"
   ]
  },
  {
   "cell_type": "code",
   "execution_count": 25,
   "metadata": {},
   "outputs": [],
   "source": [
    "train_x = np.asarray(train_x)\n",
    "train_y = np.asarray(train_y)"
   ]
  },
  {
   "cell_type": "code",
   "execution_count": 26,
   "metadata": {},
   "outputs": [
    {
     "name": "stdout",
     "output_type": "stream",
     "text": [
      "[[0. 0. 1. 0. 0. 0. 0.]\n",
      " [0. 0. 1. 0. 0. 0. 0.]\n",
      " [1. 0. 0. 0. 0. 0. 0.]\n",
      " [1. 0. 0. 0. 0. 0. 0.]\n",
      " [1. 0. 0. 0. 0. 0. 0.]]\n",
      "[[1. 0. 0. 0. 0. 0. 0.]\n",
      " [0. 0. 0. 0. 0. 1. 0.]\n",
      " [0. 0. 1. 0. 0. 0. 0.]\n",
      " [0. 0. 0. 0. 0. 1. 0.]\n",
      " [0. 0. 0. 0. 1. 0. 0.]]\n"
     ]
    }
   ],
   "source": [
    "print(train_x[0:5])\n",
    "print(train_y[0:5])"
   ]
  },
  {
   "cell_type": "code",
   "execution_count": 27,
   "metadata": {},
   "outputs": [
    {
     "data": {
      "text/plain": [
       "(44, 7)"
      ]
     },
     "execution_count": 27,
     "metadata": {},
     "output_type": "execute_result"
    }
   ],
   "source": [
    "train_x.shape"
   ]
  },
  {
   "cell_type": "code",
   "execution_count": 28,
   "metadata": {},
   "outputs": [
    {
     "data": {
      "text/plain": [
       "(44, 7)"
      ]
     },
     "execution_count": 28,
     "metadata": {},
     "output_type": "execute_result"
    }
   ],
   "source": [
    "train_y.shape"
   ]
  },
  {
   "cell_type": "markdown",
   "metadata": {},
   "source": [
    "有了训练数据,现在就可以构建我们的网络了"
   ]
  },
  {
   "cell_type": "code",
   "execution_count": 29,
   "metadata": {},
   "outputs": [],
   "source": [
    "x=tf.placeholder(tf.float32,shape=[None,vacabulary_size])\n",
    "y_=tf.placeholder(tf.float32,shape=[None,vacabulary_size])"
   ]
  },
  {
   "cell_type": "markdown",
   "metadata": {},
   "source": [
    "我们将要构建一个网络,只有一层隐层,然后使用这一层隐层的值作为我们的目标embedding"
   ]
  },
  {
   "cell_type": "code",
   "execution_count": 30,
   "metadata": {},
   "outputs": [],
   "source": [
    "embedding_size=hidden_size=5 # 因为我们的词汇量vacabulary_size为7,所以我们希望构建一个小于他的向量"
   ]
  },
  {
   "cell_type": "code",
   "execution_count": 31,
   "metadata": {},
   "outputs": [],
   "source": [
    "w1 = tf.Variable(tf.random_normal(shape=[vacabulary_size,embedding_size]))\n",
    "b1 = tf.Variable(tf.random_normal(shape=[embedding_size])) # biases"
   ]
  },
  {
   "cell_type": "code",
   "execution_count": 32,
   "metadata": {},
   "outputs": [],
   "source": [
    "hidden_layer = tf.add(tf.matmul(x,w1),b1)"
   ]
  },
  {
   "cell_type": "code",
   "execution_count": 33,
   "metadata": {},
   "outputs": [],
   "source": [
    "w2 = tf.Variable(tf.random_normal(shape=[embedding_size,vacabulary_size]))\n",
    "b2 = tf.Variable(tf.random_normal(shape=[vacabulary_size]))"
   ]
  },
  {
   "cell_type": "code",
   "execution_count": 34,
   "metadata": {},
   "outputs": [],
   "source": [
    "y_pred = tf.add(tf.matmul(hidden_layer,w2),b2)"
   ]
  },
  {
   "cell_type": "code",
   "execution_count": 35,
   "metadata": {},
   "outputs": [],
   "source": [
    "y_softmax = tf.nn.softmax(y_pred,axis=1)"
   ]
  },
  {
   "cell_type": "markdown",
   "metadata": {},
   "source": [
    "所以,我们的目标是实现one_hot vector --> embedings  --> input word neighbor probability"
   ]
  },
  {
   "cell_type": "code",
   "execution_count": 36,
   "metadata": {},
   "outputs": [],
   "source": [
    "init = tf.global_variables_initializer()"
   ]
  },
  {
   "cell_type": "code",
   "execution_count": 37,
   "metadata": {},
   "outputs": [],
   "source": [
    "sess = tf.Session()"
   ]
  },
  {
   "cell_type": "code",
   "execution_count": 38,
   "metadata": {},
   "outputs": [],
   "source": [
    "# cross entropy loss define\n",
    "cross_entropy_loss = tf.reduce_mean(-tf.reduce_sum(y_*tf.log(y_softmax),axis=1))"
   ]
  },
  {
   "cell_type": "code",
   "execution_count": 39,
   "metadata": {},
   "outputs": [],
   "source": [
    "# use gradient descent optimizer\n",
    "optim = tf.train.GradientDescentOptimizer(0.1).minimize(cross_entropy_loss)"
   ]
  },
  {
   "cell_type": "code",
   "execution_count": 40,
   "metadata": {},
   "outputs": [],
   "source": [
    "nIters = 10000"
   ]
  },
  {
   "cell_type": "code",
   "execution_count": 41,
   "metadata": {},
   "outputs": [],
   "source": [
    "sess.run(init)"
   ]
  },
  {
   "cell_type": "code",
   "execution_count": 42,
   "metadata": {},
   "outputs": [
    {
     "name": "stdout",
     "output_type": "stream",
     "text": [
      "loss is : 3.713114\n",
      "loss is : 1.3740807\n",
      "loss is : 1.3653294\n",
      "loss is : 1.3636146\n",
      "loss is : 1.3629444\n",
      "loss is : 1.3625973\n",
      "loss is : 1.3623884\n",
      "loss is : 1.3622497\n",
      "loss is : 1.3621517\n",
      "loss is : 1.3620791\n",
      "train done!\n"
     ]
    }
   ],
   "source": [
    "for i in range(nIters):\n",
    "    sess.run(optim,feed_dict={x:train_x,y_:train_y})\n",
    "    if i% 1000 ==0:\n",
    "        print(\"loss is :\",sess.run(cross_entropy_loss,feed_dict={x:train_x,y_:train_y}))\n",
    "print(\"train done!\")"
   ]
  },
  {
   "cell_type": "code",
   "execution_count": 43,
   "metadata": {},
   "outputs": [
    {
     "name": "stdout",
     "output_type": "stream",
     "text": [
      "[[ 2.0404618  -2.8020809   0.60984844  0.93457043  0.18032508]\n",
      " [ 2.3382154   0.58353245 -0.5876934  -0.13913979  1.2269977 ]\n",
      " [-1.0649415   1.4285247  -0.41733813 -0.23755352 -0.20523444]\n",
      " [-1.3687102  -1.3037876  -1.1744163   0.596278    0.0518599 ]\n",
      " [-1.9236883  -0.01062022  1.3702127  -0.23605892  0.99357176]\n",
      " [ 0.2056583  -1.2235731   0.8092315  -2.7232547   0.9354071 ]\n",
      " [-0.7842573   0.95953614  0.40230122  0.42348516  1.3618242 ]]\n"
     ]
    }
   ],
   "source": [
    "print(sess.run(w1))"
   ]
  },
  {
   "cell_type": "code",
   "execution_count": 44,
   "metadata": {},
   "outputs": [
    {
     "name": "stdout",
     "output_type": "stream",
     "text": [
      "[-0.668807    1.5817069   1.2045853   0.9268311   0.86226654]\n"
     ]
    }
   ],
   "source": [
    "print(sess.run(b1))"
   ]
  },
  {
   "cell_type": "code",
   "execution_count": 45,
   "metadata": {},
   "outputs": [],
   "source": [
    "embeddings = w1+b1"
   ]
  },
  {
   "cell_type": "code",
   "execution_count": 46,
   "metadata": {},
   "outputs": [
    {
     "name": "stdout",
     "output_type": "stream",
     "text": [
      "[[ 1.3716547  -1.220374    1.8144338   1.8614016   1.0425916 ]\n",
      " [ 1.6694083   2.1652393   0.6168919   0.78769135  2.0892644 ]\n",
      " [-1.7337486   3.0102315   0.7872472   0.6892776   0.65703213]\n",
      " [-2.037517    0.2779193   0.03016901  1.5231092   0.91412646]\n",
      " [-2.5924954   1.5710866   2.574798    0.6907722   1.8558383 ]\n",
      " [-0.4631487   0.3581338   2.0138168  -1.7964236   1.7976737 ]\n",
      " [-1.4530643   2.541243    1.6068865   1.3503163   2.2240906 ]]\n"
     ]
    }
   ],
   "source": [
    "print(sess.run(embeddings))"
   ]
  },
  {
   "cell_type": "code",
   "execution_count": 47,
   "metadata": {},
   "outputs": [
    {
     "data": {
      "text/plain": [
       "array([[-1.7337486 ,  3.0102315 ,  0.7872472 ,  0.6892776 ,  0.65703213],\n",
       "       [-1.7337486 ,  3.0102315 ,  0.7872472 ,  0.6892776 ,  0.65703213],\n",
       "       [ 1.3716547 , -1.220374  ,  1.8144338 ,  1.8614016 ,  1.0425916 ],\n",
       "       [ 1.3716547 , -1.220374  ,  1.8144338 ,  1.8614016 ,  1.0425916 ],\n",
       "       [ 1.3716547 , -1.220374  ,  1.8144338 ,  1.8614016 ,  1.0425916 ],\n",
       "       [-0.4631487 ,  0.3581338 ,  2.0138168 , -1.7964236 ,  1.7976737 ],\n",
       "       [-0.4631487 ,  0.3581338 ,  2.0138168 , -1.7964236 ,  1.7976737 ],\n",
       "       [-0.4631487 ,  0.3581338 ,  2.0138168 , -1.7964236 ,  1.7976737 ],\n",
       "       [-2.5924954 ,  1.5710866 ,  2.574798  ,  0.6907722 ,  1.8558383 ],\n",
       "       [-2.5924954 ,  1.5710866 ,  2.574798  ,  0.6907722 ,  1.8558383 ],\n",
       "       [-0.4631487 ,  0.3581338 ,  2.0138168 , -1.7964236 ,  1.7976737 ],\n",
       "       [-0.4631487 ,  0.3581338 ,  2.0138168 , -1.7964236 ,  1.7976737 ],\n",
       "       [-2.5924954 ,  1.5710866 ,  2.574798  ,  0.6907722 ,  1.8558383 ],\n",
       "       [-2.5924954 ,  1.5710866 ,  2.574798  ,  0.6907722 ,  1.8558383 ],\n",
       "       [-2.5924954 ,  1.5710866 ,  2.574798  ,  0.6907722 ,  1.8558383 ],\n",
       "       [ 1.3716547 , -1.220374  ,  1.8144338 ,  1.8614016 ,  1.0425916 ],\n",
       "       [ 1.3716547 , -1.220374  ,  1.8144338 ,  1.8614016 ,  1.0425916 ],\n",
       "       [ 1.3716547 , -1.220374  ,  1.8144338 ,  1.8614016 ,  1.0425916 ],\n",
       "       [ 1.6694083 ,  2.1652393 ,  0.6168919 ,  0.78769135,  2.0892644 ],\n",
       "       [ 1.6694083 ,  2.1652393 ,  0.6168919 ,  0.78769135,  2.0892644 ],\n",
       "       [-0.4631487 ,  0.3581338 ,  2.0138168 , -1.7964236 ,  1.7976737 ],\n",
       "       [-0.4631487 ,  0.3581338 ,  2.0138168 , -1.7964236 ,  1.7976737 ],\n",
       "       [-2.037517  ,  0.2779193 ,  0.03016901,  1.5231092 ,  0.91412646],\n",
       "       [-2.037517  ,  0.2779193 ,  0.03016901,  1.5231092 ,  0.91412646],\n",
       "       [-2.037517  ,  0.2779193 ,  0.03016901,  1.5231092 ,  0.91412646],\n",
       "       [ 1.3716547 , -1.220374  ,  1.8144338 ,  1.8614016 ,  1.0425916 ],\n",
       "       [ 1.3716547 , -1.220374  ,  1.8144338 ,  1.8614016 ,  1.0425916 ],\n",
       "       [ 1.3716547 , -1.220374  ,  1.8144338 ,  1.8614016 ,  1.0425916 ],\n",
       "       [ 1.6694083 ,  2.1652393 ,  0.6168919 ,  0.78769135,  2.0892644 ],\n",
       "       [ 1.6694083 ,  2.1652393 ,  0.6168919 ,  0.78769135,  2.0892644 ],\n",
       "       [-1.4530643 ,  2.541243  ,  1.6068865 ,  1.3503163 ,  2.2240906 ],\n",
       "       [-1.4530643 ,  2.541243  ,  1.6068865 ,  1.3503163 ,  2.2240906 ],\n",
       "       [ 1.3716547 , -1.220374  ,  1.8144338 ,  1.8614016 ,  1.0425916 ],\n",
       "       [ 1.3716547 , -1.220374  ,  1.8144338 ,  1.8614016 ,  1.0425916 ],\n",
       "       [ 1.3716547 , -1.220374  ,  1.8144338 ,  1.8614016 ,  1.0425916 ],\n",
       "       [-0.4631487 ,  0.3581338 ,  2.0138168 , -1.7964236 ,  1.7976737 ],\n",
       "       [-0.4631487 ,  0.3581338 ,  2.0138168 , -1.7964236 ,  1.7976737 ],\n",
       "       [-0.4631487 ,  0.3581338 ,  2.0138168 , -1.7964236 ,  1.7976737 ],\n",
       "       [-0.4631487 ,  0.3581338 ,  2.0138168 , -1.7964236 ,  1.7976737 ],\n",
       "       [ 1.6694083 ,  2.1652393 ,  0.6168919 ,  0.78769135,  2.0892644 ],\n",
       "       [ 1.6694083 ,  2.1652393 ,  0.6168919 ,  0.78769135,  2.0892644 ],\n",
       "       [ 1.6694083 ,  2.1652393 ,  0.6168919 ,  0.78769135,  2.0892644 ],\n",
       "       [-2.037517  ,  0.2779193 ,  0.03016901,  1.5231092 ,  0.91412646],\n",
       "       [-2.037517  ,  0.2779193 ,  0.03016901,  1.5231092 ,  0.91412646]],\n",
       "      dtype=float32)"
      ]
     },
     "execution_count": 47,
     "metadata": {},
     "output_type": "execute_result"
    }
   ],
   "source": [
    "sess.run(hidden_layer,feed_dict={x:train_x,y_:train_y})"
   ]
  },
  {
   "cell_type": "code",
   "execution_count": 48,
   "metadata": {},
   "outputs": [
    {
     "name": "stdout",
     "output_type": "stream",
     "text": [
      "4\n",
      "[-2.5924954  1.5710866  2.574798   0.6907722  1.8558383]\n"
     ]
    }
   ],
   "source": [
    "king_num = word2num['king']\n",
    "print(king_num)\n",
    "king_embedding = embeddings[king_num]\n",
    "print(sess.run(king_embedding))"
   ]
  },
  {
   "cell_type": "code",
   "execution_count": 49,
   "metadata": {},
   "outputs": [],
   "source": [
    "embeddings = sess.run(embeddings)"
   ]
  },
  {
   "cell_type": "markdown",
   "metadata": {},
   "source": [
    "next,let's have some fun with thoese embeddings"
   ]
  },
  {
   "cell_type": "code",
   "execution_count": 50,
   "metadata": {},
   "outputs": [],
   "source": [
    "def euclidien_distance(vec1,vec2):\n",
    "    return np.sqrt(np.sum(np.square(vec1-vec2)))"
   ]
  },
  {
   "cell_type": "code",
   "execution_count": 51,
   "metadata": {},
   "outputs": [],
   "source": [
    "def find_closest_embedding(word_index,embeddings):\n",
    "    query_embedding = embeddings[word_index]\n",
    "    \n",
    "    min_distance = 100000\n",
    "    min_index = -1 # 最近的embedding的index\n",
    "    for index,embedding in enumerate(embeddings):\n",
    "        if not np.array_equal(embedding,query_embedding):\n",
    "            distance = euclidien_distance(embedding,query_embedding)\n",
    "            if distance < min_distance:\n",
    "                min_distance = distance\n",
    "                min_index = index\n",
    "    return min_index\n",
    "    "
   ]
  },
  {
   "cell_type": "code",
   "execution_count": 52,
   "metadata": {},
   "outputs": [],
   "source": [
    "closest_index_to_king = find_closest_embedding(king_num,embeddings)"
   ]
  },
  {
   "cell_type": "code",
   "execution_count": 53,
   "metadata": {},
   "outputs": [
    {
     "name": "stdout",
     "output_type": "stream",
     "text": [
      "she\n"
     ]
    }
   ],
   "source": [
    "print(num2word[closest_index_to_king])"
   ]
  },
  {
   "cell_type": "code",
   "execution_count": 54,
   "metadata": {},
   "outputs": [
    {
     "name": "stdout",
     "output_type": "stream",
     "text": [
      "he\n"
     ]
    }
   ],
   "source": [
    "print(num2word[find_closest_embedding(word2num['queen'],embeddings)])"
   ]
  },
  {
   "cell_type": "code",
   "execution_count": 55,
   "metadata": {},
   "outputs": [
    {
     "name": "stdout",
     "output_type": "stream",
     "text": [
      "she\n"
     ]
    }
   ],
   "source": [
    "print(num2word[find_closest_embedding(word2num['king'],embeddings)])"
   ]
  },
  {
   "cell_type": "code",
   "execution_count": 56,
   "metadata": {},
   "outputs": [
    {
     "name": "stdout",
     "output_type": "stream",
     "text": [
      "she\n"
     ]
    }
   ],
   "source": [
    "print(num2word[find_closest_embedding(word2num['royal'],embeddings)])"
   ]
  },
  {
   "cell_type": "code",
   "execution_count": 57,
   "metadata": {},
   "outputs": [
    {
     "name": "stdout",
     "output_type": "stream",
     "text": [
      "king\n"
     ]
    }
   ],
   "source": [
    "print(num2word[find_closest_embedding(word2num['she'],embeddings)])"
   ]
  },
  {
   "cell_type": "markdown",
   "metadata": {},
   "source": [
    "让我们来看看这些词向量之间的关系"
   ]
  },
  {
   "cell_type": "code",
   "execution_count": 58,
   "metadata": {},
   "outputs": [],
   "source": [
    "from sklearn.manifold import TSNE"
   ]
  },
  {
   "cell_type": "code",
   "execution_count": 59,
   "metadata": {},
   "outputs": [],
   "source": [
    "# 使用tsne model来降维观察\n",
    "tsne_model = TSNE(n_components=2,random_state=0)\n",
    "np.set_printoptions(suppress=True) # 0 to 0\n",
    "embeddings = tsne_model.fit_transform(embeddings)"
   ]
  },
  {
   "cell_type": "code",
   "execution_count": 60,
   "metadata": {},
   "outputs": [],
   "source": [
    "# 然后需要对词向量进行归一化,方便matplotlib显示\n",
    "from sklearn import preprocessing\n",
    "norm = preprocessing.Normalizer()\n",
    "embeddings = norm.fit_transform(embeddings,'l2')"
   ]
  },
  {
   "cell_type": "code",
   "execution_count": 61,
   "metadata": {},
   "outputs": [],
   "source": [
    "import matplotlib.pyplot as plt"
   ]
  },
  {
   "cell_type": "code",
   "execution_count": 62,
   "metadata": {},
   "outputs": [
    {
     "name": "stdout",
     "output_type": "stream",
     "text": [
      "is 0.9003202 -0.43522823\n",
      "royal -0.9410435 0.33828554\n",
      "he -0.097218975 -0.99526304\n",
      "queen 0.8215789 0.5700948\n",
      "king -0.7727457 -0.6347157\n",
      "the -0.13745865 0.9905075\n",
      "she 0.113266796 -0.9935646\n"
     ]
    },
    {
     "data": {
      "image/png": "[encoded data removed]",
      "text/plain": [
       "<matplotlib.figure.Figure at 0x7fdaf5dd4d68>"
      ]
     },
     "metadata": {},
     "output_type": "display_data"
    }
   ],
   "source": [
    "fig,axes = plt.subplots()\n",
    "plt.xlim((-2,2))\n",
    "plt.ylim((-2,2))\n",
    "for word in words:\n",
    "    print(word,embeddings[word2num[word]][0],embeddings[word2num[word]][1])\n",
    "    axes.annotate(word,(embeddings[word2num[word]][0],embeddings[word2num[word]][1]))\n",
    "plt.show()"
   ]
  },
  {
   "cell_type": "code",
   "execution_count": null,
   "metadata": {},
   "outputs": [],
   "source": []
  },
  {
   "cell_type": "code",
   "execution_count": null,
   "metadata": {},
   "outputs": [],
   "source": []
  }
 ],
 "metadata": {
  "kernelspec": {
   "display_name": "Python 3",
   "language": "python",
   "name": "python3"
  },
  "language_info": {
   "codemirror_mode": {
    "name": "ipython",
    "version": 3
   },
   "file_extension": ".py",
   "mimetype": "text/x-python",
   "name": "python",
   "nbconvert_exporter": "python",
   "pygments_lexer": "ipython3",
   "version": "3.6.3"
  }
 },
 "nbformat": 4,
 "nbformat_minor": 2
}
